{
 "cells": [
  {
   "cell_type": "markdown",
   "metadata": {},
   "source": [
    "<h1 style=\"color:red\">Mini projet entrepôt et fouille de données</h1>"
   ]
  },
  {
   "cell_type": "markdown",
   "metadata": {
    "collapsed": true
   },
   "source": [
    "@author: Jonathan YUE CHUN<br>\n",
    "@author: Quentin LEVAVASSEUR<br>\n",
    "@author: Valentin BOUCHEVREAU\n",
    "\n",
    "<strong style=\"color:blue\">[1] Données</strong>\n",
    "\n",
    "TODO: createCSV from result(result format TBD)"
   ]
  },
  {
   "cell_type": "code",
   "execution_count": 1,
   "metadata": {
    "collapsed": true
   },
   "outputs": [],
   "source": [
    "import pandas\n",
    "import numpy\n",
    "\n",
    "class DataManager:\n",
    "    \n",
    "    def __init__(self, data, sheetName):\n",
    "        xls = pandas.ExcelFile(data)\n",
    "        self.df = xls.parse(sheetname=sheetName)\n",
    "    \n",
    "    def exportTOcsv(self, outputName, header=True):     \n",
    "        df2 = self.df.fillna(\"\")\n",
    "        df2.to_csv(outputName+'.csv', encoding='utf-8', index=False, header=header)\n",
    "        \n",
    "    def dropColumns(self, columnsIndex):\n",
    "        self.df = self.df.drop(self.df.columns[columnsIndex], axis=1)\n",
    "        \n",
    "    def dropRows(self, rowsIndex):\n",
    "        self.df = self.df.drop(self.df[self.df.index[rowsIndex]], axis=0)\n",
    "    \n",
    "    def replaceColumnValue(self, columnName, regexString):   \n",
    "        self.df[columnName] = self.df[columnName].str.replace(regexString, '')\n",
    "        \n",
    "    def columnToNumeric(self, columnName):\n",
    "        self.df[columnName] = pandas.to_numeric(self.df[columnName], errors='coerce').fillna(0).astype(numpy.int64)\n",
    "    \n",
    "    def addColumn(self, columnName, columnValues):\n",
    "        #columnValues is a list [...] containing a certain amount number of values intended to be inserted in the given column \n",
    "        self.df[columnName] = columnValues\n",
    "        \n",
    "    def getDataframe(self):\n",
    "        df2 = self.df.fillna(\"\")\n",
    "        return df2"
   ]
  },
  {
   "cell_type": "markdown",
   "metadata": {},
   "source": [
    "<strong style=\"color:blue\">Extraction des feuilles xlsx et l'exporter en CSV (+Nettoyage)</strong>\n",
    "\n",
    "<ul>\n",
    "  <li>Pour les données de test, suppression des colonnes de prédictions (5 colonnes...).</li>\n",
    "</ul>\n",
    "\n"
   ]
  },
  {
   "cell_type": "code",
   "execution_count": 2,
   "metadata": {
    "collapsed": true,
    "scrolled": false
   },
   "outputs": [],
   "source": [
    "dataManager1 = DataManager(\"Alphaprise.xlsx\", \"apprentissage\")\n",
    "dataManager1.replaceColumnValue(\"PrevisionnelAnnuel\", \"[^0-9.e+]\")\n",
    "dataManager1.columnToNumeric(\"PrevisionnelAnnuel\")\n",
    "dataManager1.columnToNumeric(\"NbSalaries\")\n",
    "#add a row example\n",
    "#dataManager1.addColumn(\"coltest\", list(range(1, (dataManager1.getDataframe().shape[0] + 1))))\n",
    "#dataManager1.exportTOcsv(\"apprentissage\", header=False)\n",
    "\n",
    "dataManager2 = DataManager(\"Alphaprise.xlsx\", \"test\")\n",
    "dataManager2.dropColumns([34,35,36,37,38])\n",
    "#dataManager2.exportTOcsv(\"test\", header=False)"
   ]
  },
  {
   "cell_type": "markdown",
   "metadata": {},
   "source": [
    "<strong style=\"color:blue\">[2] Travail demandé</strong><br><br>\n",
    "<strong>Analyse statistique</strong>"
   ]
  },
  {
   "cell_type": "code",
   "execution_count": 3,
   "metadata": {},
   "outputs": [
    {
     "name": "stdout",
     "output_type": "stream",
     "text": [
      "averagePrevisionnelAnnuel: 84088.18952100986\taverageCapaciteEmprunt: 13985.954676638437\taverageNbSalaries: 4.2472765000864605\n",
      "\n",
      "P1 average: 6531.958552654355\n",
      "\n",
      "P2 average: 1982.9198556112765\n",
      "\n",
      "P3 average: 3843.604731108426\n",
      "\n",
      "P4 average: 2458.2636460314684\n",
      "\n",
      "P5 average: 2179.842723499917\n",
      "\n",
      "P6 average: 2752.253797337018\n",
      "\n",
      "P7 average: 698.4204616980809\n",
      "\n",
      "P8 average: 640.177281687707\n",
      "\n",
      "P9 average: 354.4432413971984\n",
      "\n",
      "P10 average: 0.0\n",
      "\n",
      "P11 average: 377.00858983226664\n",
      "\n",
      "P12 average: 2772.456076430926\n",
      "\n",
      "P13 average: 1930.4653544872945\n",
      "\n",
      "P14 average: 2169.552788345147\n",
      "\n",
      "P15 average: 109.95279180356226\n",
      "\n",
      "P16 average: 2458.947484004836\n",
      "\n",
      "P17 average: 0.26366159432820335\n",
      "\n",
      "P18 average: 131.64165312121824\n",
      "\n",
      "P19 average: 476.7135457375043\n",
      "\n",
      "P20 average: 6786.025033719506\n",
      "\n",
      "P21 average: 1563.0109216669537\n",
      "\n",
      "P22 average: 1936.6075168597606\n",
      "\n",
      "P23 average: 608.1426724883278\n",
      "\n",
      "P24 average: 354.13560781601046\n",
      "\n",
      "P25 average: 31.277587757219436\n",
      "\n",
      "P26 average: 296.9638734220981\n",
      "\n",
      "P27 average: 17.859086114473467\n",
      "\n",
      "P28 average: 281.28985734048007\n",
      "\n",
      "P29 average: 346.7883676292579\n",
      "\n",
      "P30 average: 368.3163539685283\n",
      "\n"
     ]
    }
   ],
   "source": [
    "learningData = dataManager1.getDataframe()\n",
    "testData = dataManager2.getDataframe()\n",
    "\n",
    "averagePrevisionnelAnnuel = learningData['PrevisionnelAnnuel'].mean()\n",
    "averageCapaciteEmprunt = learningData['CapaciteEmprunt'].mean()\n",
    "averageNbSalaries = learningData['NbSalaries'].mean()\n",
    "print(\"averagePrevisionnelAnnuel: \" + str(averagePrevisionnelAnnuel) + \"\\t\" + \"averageCapaciteEmprunt: \" + str(averageCapaciteEmprunt) + \"\\t\" + \"averageNbSalaries: \" + str(averageNbSalaries) + \"\\n\")\n",
    "\n",
    "for i in range(1,31):\n",
    "    temp = learningData[\"P\"+str(i)].mean()\n",
    "    print(\"P\" + str(i) + \" average: \" + str(temp)+ \"\\n\")\n"
   ]
  },
  {
   "cell_type": "markdown",
   "metadata": {},
   "source": [
    "<p><strong style=\"color:red\">Conclusion sur l'analyse de la moyenne sur les colonnes numériques</strong></p>\n",
    "<ul>\n",
    "    <li>On peut éliminer les deux colonnes <strong>P10</strong> et <strong>P17</strong> (car valeur très inférieurs aux autres colonnes P) pour les futures analyses;</li>\n",
    "    <li>Les colonnes <strong>P1, P3, P20</strong> se distincte. En effet, ces colonnes là possèdent des valeurs très au-dessus de tous les autres P;</li>\n",
    "    <li>Des colonnes P restants, on distincte deux groupes, notamment <strong>(P2, P4, P5, P6, P12, P13, P14, P16, P21, P22)</strong> et <strong>(P7, P8, P9, P11, P15, P18, P19, P23, P24, P25, P26, P27, P28, P29, P30)</strong></li>\n",
    "    <li>Pour la moyenne sur la colonne NbSalaries, il est nécessaire de le faire en plusieurs groupes différents. C'est-à-dire: une pour les entreprises à taille humaine (entre 4 - 20 employés), une pour les PME (entre 21 à 100 employés) et une pour les grande entreprises (100+ employés)</li>\n",
    "<ul>"
   ]
  },
  {
   "cell_type": "markdown",
   "metadata": {},
   "source": [
    "<strong>Faire émerger des secteurs d'activité à partir des données(le nombre de secteurs d'activité identifié par la direction des ventes est de 8 secteurs, en comptant les Particuliers et les Divers, mais ce chiffre n'est en aucun cas une valeur parfaite). <br>\n",
    "    <p style=\"color:blue\">Variables à exclure</p>au moins Secteur1, Secteur2, SecteurParticulier, SecteurDivers</strong>\n",
    "    \n",
    "D'après le raisonnement réalisé précédemment, on exclura également <strong>P10</strong> et <strong>P17</strong>"
   ]
  },
  {
   "cell_type": "code",
   "execution_count": 4,
   "metadata": {
    "collapsed": true
   },
   "outputs": [],
   "source": [
    "#Suppression des colonnes par rapport à l'index de la colonne (à exécuter une seule fois, sinon refaire l'importation des données)\n",
    "dataManager1.dropColumns([1,2,3,4, 20, 27])"
   ]
  },
  {
   "cell_type": "markdown",
   "metadata": {},
   "source": [
    "<strong style=\"color:red\">Hypothèse 1</strong><br>\n",
    "<strong>Eclatement de la donnée source en prenant compte l'hypothèse énoncé plus haut sur la colonne NbSalaries, c'est-à-dire qu'on cherchera à regrouper les différents catégories de clients ensembles...\n",
    "Dans la suite, on cherchera à faire la même chose en considérant que les colonnes P{1..30}</strong>\n",
    "<ul>\n",
    "    <li>données des entreprises où le nombre de salariés est inférieur à 6</li>\n",
    "    <li>données des entreprises (PME): 21 à 100 employés</li>\n",
    "    <li>données des entreprises de tailles importantes</li>\n",
    "</ul>"
   ]
  },
  {
   "cell_type": "code",
   "execution_count": 5,
   "metadata": {
    "scrolled": true
   },
   "outputs": [
    {
     "name": "stdout",
     "output_type": "stream",
     "text": [
      "Moyennes du nombres de salariés\n",
      "Petite entreprise/client individuel: 1\n",
      "PME: 17\n",
      "Grande entreprise: 386\n",
      "\n",
      "Petite entreprise/client individuel:\n",
      "PME: \n",
      "Grande entreprise: \n"
     ]
    }
   ],
   "source": [
    "smallCompanyData = dataManager1.getDataframe().loc[dataManager1.getDataframe()['NbSalaries'] < 6]\n",
    "mediumCompanyData = dataManager1.getDataframe().loc[(dataManager1.getDataframe()['NbSalaries'] > 6) & (dataManager1.getDataframe()['NbSalaries'] < 100)]\n",
    "bigCompanyData = dataManager1.getDataframe().loc[dataManager1.getDataframe()['NbSalaries'] > 100]\n",
    "\n",
    "averageSmallCompanyData = smallCompanyData['NbSalaries'].mean()\n",
    "averageMediumCompanyData = mediumCompanyData['NbSalaries'].mean()\n",
    "averageBigCompanyData = bigCompanyData['NbSalaries'].mean()\n",
    "\n",
    "print(\"Moyennes du nombres de salariés\")\n",
    "print(\"Petite entreprise/client individuel: \" + str(int(averageSmallCompanyData)))\n",
    "print(\"PME: \" + str(int(averageMediumCompanyData)))\n",
    "print(\"Grande entreprise: \" + str(int(averageBigCompanyData)))\n",
    "print(\"\")\n",
    "print(\"Petite entreprise/client individuel:\")\n",
    "for i in range(1,31):\n",
    "    if i != 10 and i != 17:\n",
    "        temp = smallCompanyData[\"P\"+str(i)].mean()\n",
    "        #print(\"P\" + str(i) + \" average: \" + str(temp)+ \"\\n\")\n",
    "        \n",
    "print(\"PME: \")        \n",
    "for i in range(1,31):\n",
    "    if i != 10 and i != 17:\n",
    "        temp = mediumCompanyData[\"P\"+str(i)].mean()\n",
    "        #print(\"P\" + str(i) + \" average: \" + str(temp)+ \"\\n\")\n",
    "\n",
    "print(\"Grande entreprise: \")\n",
    "for i in range(1,31):\n",
    "    if i != 10 and i != 17:\n",
    "        temp = bigCompanyData[\"P\"+str(i)].mean()\n",
    "        #print(\"P\" + str(i) + \" average: \" + str(temp)+ \"\\n\")"
   ]
  },
  {
   "cell_type": "markdown",
   "metadata": {},
   "source": [
    "<strong>Visualisation des données statistiques...</strong>"
   ]
  },
  {
   "cell_type": "code",
   "execution_count": 6,
   "metadata": {},
   "outputs": [
    {
     "data": {
      "text/plain": [
       "<matplotlib.text.Text at 0x14180374e10>"
      ]
     },
     "execution_count": 6,
     "metadata": {},
     "output_type": "execute_result"
    },
    {
     "data": {
      "image/png": "[encoded data removed]",
      "text/plain": [
       "<matplotlib.figure.Figure at 0x141fed85080>"
      ]
     },
     "metadata": {},
     "output_type": "display_data"
    }
   ],
   "source": [
    "%matplotlib inline\n",
    "\n",
    "hist1 = smallCompanyData['NbSalaries'].plot(kind='hist')\n",
    "hist1.set_xlabel(\"NbSalaries\")\n",
    "hist1.set_ylabel(\"NbEntreprises\")"
   ]
  },
  {
   "cell_type": "code",
   "execution_count": 7,
   "metadata": {},
   "outputs": [
    {
     "data": {
      "text/plain": [
       "<matplotlib.text.Text at 0x14180f505c0>"
      ]
     },
     "execution_count": 7,
     "metadata": {},
     "output_type": "execute_result"
    },
    {
     "data": {
      "image/png": "[encoded data removed]",
      "text/plain": [
       "<matplotlib.figure.Figure at 0x141fed29390>"
      ]
     },
     "metadata": {},
     "output_type": "display_data"
    }
   ],
   "source": [
    "hist2 = mediumCompanyData['NbSalaries'].plot(x='_id', y='total', kind='hist')\n",
    "hist2.set_xlabel(\"NbSalaries\")\n",
    "hist2.set_ylabel(\"NbEntreprises\")"
   ]
  },
  {
   "cell_type": "code",
   "execution_count": 8,
   "metadata": {},
   "outputs": [
    {
     "data": {
      "text/plain": [
       "<matplotlib.text.Text at 0x141fff8c1d0>"
      ]
     },
     "execution_count": 8,
     "metadata": {},
     "output_type": "execute_result"
    },
    {
     "data": {
      "image/png": "[encoded data removed]",
      "text/plain": [
       "<matplotlib.figure.Figure at 0x141fff89198>"
      ]
     },
     "metadata": {},
     "output_type": "display_data"
    }
   ],
   "source": [
    "hist3 = bigCompanyData['NbSalaries'].plot(x='_id', y='total', kind='hist')\n",
    "hist3.set_xlabel(\"NbSalaries\")\n",
    "hist3.set_ylabel(\"NbEntreprises\")"
   ]
  },
  {
   "cell_type": "markdown",
   "metadata": {
    "collapsed": true
   },
   "source": [
    "Les trois histogrammes construits suggèrent qu'ils existent 7 catégories (secteurs d'activités) de clients (en se basant sur le nombres de salariés dans les entreprises):\n",
    "<ul>\n",
    "    <li>les particuliers (0 ou 1 personnes);</li>\n",
    "    <li>divers (2 à 5 personnes);</li>\n",
    "    <li>les start-ups (5 à 10 personnes);</li>\n",
    "    <li>les PME (11 à 200 personnes);</li>\n",
    "    <li>les grandes entreprises (300 à 1500 personnes);</li>\n",
    "    <li>et les entreprises de taille internationales (plus de 3000 personnes).</li>\n",
    "</ul>\n",
    "De ce fait, il est logique de procéder les analyses statistiques en regroupants les clients venant du même secteur d'activité.\n",
    "\n",
    "Pour ce faire, nous allons procéder par réutiliser le code préalablement définit pour faire apparaître ces différents groupes..."
   ]
  },
  {
   "cell_type": "code",
   "execution_count": 9,
   "metadata": {
    "collapsed": true,
    "scrolled": true
   },
   "outputs": [],
   "source": [
    "normalCustomersData = dataManager1.getDataframe().loc[dataManager1.getDataframe()['NbSalaries'] <= 1]\n",
    "\n",
    "othersData = dataManager1.getDataframe().loc[(dataManager1.getDataframe()['NbSalaries'] >= 2) & (dataManager1.getDataframe()['NbSalaries'] <= 5)]\n",
    "\n",
    "startUpData = dataManager1.getDataframe().loc[(dataManager1.getDataframe()['NbSalaries'] >= 5) & (dataManager1.getDataframe()['NbSalaries'] <= 10)]\n",
    "\n",
    "PMEData = dataManager1.getDataframe().loc[(dataManager1.getDataframe()['NbSalaries'] >= 11) & (dataManager1.getDataframe()['NbSalaries'] <= 200)]\n",
    "\n",
    "localEnterpriseData = dataManager1.getDataframe().loc[(dataManager1.getDataframe()['NbSalaries'] >= 300) & (dataManager1.getDataframe()['NbSalaries'] <= 1500)]\n",
    "\n",
    "internationalEnterpriseData = dataManager1.getDataframe().loc[(dataManager1.getDataframe()['NbSalaries'] >= 3000)]"
   ]
  },
  {
   "cell_type": "markdown",
   "metadata": {
    "collapsed": true
   },
   "source": [
    "<strong>Analyses statistiques sur les particuliers:</strong>"
   ]
  },
  {
   "cell_type": "code",
   "execution_count": 10,
   "metadata": {},
   "outputs": [
    {
     "name": "stdout",
     "output_type": "stream",
     "text": [
      "Moyenne du salaire pour les particuliers:\n",
      "9516.330968601058\n",
      "\n",
      "La variance sur chaque colonne du tableau (NON BIASE):\n",
      "CapaciteEmprunt       3.225326e+08\n",
      "PrevisionnelAnnuel    1.153498e+08\n",
      "NbSalaries            2.447824e-01\n",
      "P1                    5.774548e+08\n",
      "P2                    2.426808e+07\n",
      "P3                    1.492900e+08\n",
      "P4                    9.529090e+07\n",
      "P5                    1.808758e+08\n",
      "P6                    4.490461e+07\n",
      "P7                    2.370901e+06\n",
      "P8                    4.781930e+06\n",
      "P9                    2.104135e+06\n",
      "P11                   3.853632e+05\n",
      "P12                   1.664259e+08\n",
      "P13                   6.340617e+07\n",
      "P14                   1.497539e+07\n",
      "P15                   4.263507e+06\n",
      "P16                   1.121376e+08\n",
      "P18                   4.440553e+05\n",
      "P19                   1.603332e+06\n",
      "P20                   7.465829e+08\n",
      "P21                   4.007559e+07\n",
      "P22                   3.780173e+08\n",
      "P23                   1.444075e+07\n",
      "P24                   6.293626e+05\n",
      "P25                   2.379134e+04\n",
      "P26                   5.089178e+06\n",
      "P27                   1.736153e+04\n",
      "P28                   1.516042e+06\n",
      "P29                   3.551563e+06\n",
      "P30                   3.946093e+06\n",
      "dtype: float64\n",
      "\n",
      "\n",
      "L'écart-type sur chaque colonne du tableau (NON BIASE):\n",
      "CapaciteEmprunt       17959.192474\n",
      "PrevisionnelAnnuel    10740.102817\n",
      "NbSalaries                0.494755\n",
      "P1                    24030.289968\n",
      "P2                     4926.264588\n",
      "P3                    12218.427301\n",
      "P4                     9761.705957\n",
      "P5                    13449.006203\n",
      "P6                     6701.090055\n",
      "P7                     1539.772942\n",
      "P8                     2186.762395\n",
      "P9                     1450.563777\n",
      "P11                     620.776264\n",
      "P12                   12900.615856\n",
      "P13                    7962.799076\n",
      "P14                    3869.804560\n",
      "P15                    2064.826139\n",
      "P16                   10589.504944\n",
      "P18                     666.374770\n",
      "P19                    1266.227358\n",
      "P20                   27323.669160\n",
      "P21                    6330.528237\n",
      "P22                   19442.666899\n",
      "P23                    3800.099266\n",
      "P24                     793.323771\n",
      "P25                     154.244419\n",
      "P26                    2255.920634\n",
      "P27                     131.763173\n",
      "P28                    1231.276467\n",
      "P29                    1884.559192\n",
      "P30                    1986.477660\n",
      "dtype: float64\n"
     ]
    }
   ],
   "source": [
    "print(\"Moyenne du salaire pour les particuliers:\")\n",
    "print(str(normalCustomersData['CapaciteEmprunt'].mean())+\"\\n\")\n",
    "# utiliser ddof = 0 en arguements pour la variance biasé\n",
    "print(\"La variance sur chaque colonne du tableau (NON BIASE):\")\n",
    "print(normalCustomersData.var())\n",
    "print(\"\\n\")\n",
    "print(\"L'écart-type sur chaque colonne du tableau (NON BIASE):\")\n",
    "print(normalCustomersData.std())"
   ]
  },
  {
   "cell_type": "markdown",
   "metadata": {},
   "source": [
    "<strong style=\"color:red\">Hypothèse 2</strong>\n",
    "<p>Toujours sur l'analyse de base statistique, contrairement à <strong>l'hypothèse 1</strong>, on cherchera à faire apparaître des groupes d'invidus en se concentrant sur les variables <strong>P{1..30}. Les variables P{1..30} représentent le chiffre d'affaire réalisé sur une période de 30 ans pour chaque clients. Chaque variable P représente une famille de produits vendus...</strong></p>\n",
    "Dans les analyses précédentes, deux colonnes ont été supprimées car une moyenne entre 0 et 1. Pour la suite du raisonnement, on supprimera les mêmes colonnes, à savoir <strong>P10</strong> et <strong>P17</strong>.\n"
   ]
  },
  {
   "cell_type": "code",
   "execution_count": 56,
   "metadata": {},
   "outputs": [
    {
     "name": "stdout",
     "output_type": "stream",
     "text": [
      "Pourcentage et nombres de lignes valants 0 pour chaque variables P...\n",
      "P1: 4669\t soit: 0.403683209407 %\n",
      "P2: 7967\t soit: 0.688829327339 %\n",
      "P3: 5635\t soit: 0.487203873422 %\n",
      "P4: 5302\t soit: 0.458412588622 %\n",
      "P5: 8325\t soit: 0.719782120007 %\n",
      "P6: 5398\t soit: 0.466712778835 %\n",
      "P7: 3578\t soit: 0.309355006052 %\n",
      "P8: 7513\t soit: 0.649576344458 %\n",
      "P9: 5470\t soit: 0.472937921494 %\n",
      "P11: 8187\t soit: 0.707850596576 %\n",
      "P12: 5273\t soit: 0.455905239495 %\n",
      "P13: 7161\t soit: 0.619142313678 %\n",
      "P14: 8075\t soit: 0.698167041328 %\n",
      "P15: 11121\t soit: 0.961525159952 %\n",
      "P16: 6793\t soit: 0.587324917863 %\n",
      "P18: 6247\t soit: 0.540117586028 %\n",
      "P19: 8427\t soit: 0.728601072108 %\n",
      "P20: 4707\t soit: 0.406968701366 %\n",
      "P21: 7278\t soit: 0.6292581705 %\n",
      "P22: 9441\t soit: 0.816271831229 %\n",
      "P23: 9312\t soit: 0.805118450631 %\n",
      "P24: 4990\t soit: 0.431436970431 %\n",
      "P25: 10821\t soit: 0.935587065537 %\n",
      "P26: 5374\t soit: 0.464637731281 %\n",
      "P27: 10608\t soit: 0.917171018503 %\n",
      "P28: 6086\t soit: 0.526197475359 %\n",
      "P29: 9917\t soit: 0.857426941034 %\n",
      "P30: 8731\t soit: 0.754885007781 %\n"
     ]
    }
   ],
   "source": [
    "data = dataManager1.getDataframe()\n",
    "\n",
    "# Cherchons le nombre de lignes qui vaut 0 pour chaque variables P\n",
    "print(\"Pourcentage et nombres de lignes valants 0 pour chaque variables P...\")\n",
    "p_results = []\n",
    "for p in range(1, 31):\n",
    "    if (p != 10 and p != 17):\n",
    "        numOfClients = data.loc[data[\"P\" + str(p)] == 0].count()\n",
    "        print(\"P\" + str(p) + \": \" + str(numOfClients[\"P\" + str(p)]) + \"\\t\" + \" soit: \" + str(numOfClients[\"P\" + str(p)] / data[\"P\" + str(p)].count()) + \" %\")\n",
    "        p_results.append((\"P\" + str(p), numOfClients[\"P\" + str(p)], numOfClients[\"P\" + str(p)] / data[\"P\" + str(p)].count()))"
   ]
  },
  {
   "cell_type": "markdown",
   "metadata": {},
   "source": [
    "<strong>Sur les 28 variables de P, essayons d'en conserver que ceux ne dépassant pas un seuil supérieur à 0.5 (Pour rendre l'analyse la plus pertinente possible)</strong>"
   ]
  },
  {
   "cell_type": "code",
   "execution_count": 73,
   "metadata": {},
   "outputs": [
    {
     "name": "stdout",
     "output_type": "stream",
     "text": [
      "('P1', 4669, 0.40368320940688224)\n",
      "('P3', 5635, 0.48720387342209925)\n",
      "('P4', 5302, 0.4584125886218226)\n",
      "('P6', 5398, 0.46671277883451495)\n",
      "('P7', 3578, 0.30935500605222205)\n",
      "('P9', 5470, 0.47293792149403424)\n",
      "('P12', 5273, 0.45590523949507178)\n",
      "('P20', 4707, 0.40696870136607299)\n",
      "('P24', 4990, 0.43143697043057239)\n",
      "('P26', 5374, 0.46463773128134184)\n",
      "\n",
      "\n",
      "Nombre de P à conserver: 9\n"
     ]
    }
   ],
   "source": [
    "remainingP = []\n",
    "for p in p_results:\n",
    "    if p[2] < 0.50:\n",
    "        remainingP.append(p)\n",
    "        \n",
    "for p in remainingP: print(p)\n",
    "print('\\n')\n",
    "print(\"Nombre de P à conserver: \" + str(len(remainingP) - 1))"
   ]
  },
  {
   "cell_type": "markdown",
   "metadata": {},
   "source": [
    "<strong>Il en ressort que l'analyse se fera que sur 9 variables P:</strong>\n",
    "<p>1, 3, 4, 6, 7, 9, 12, 20, 24, 26</p>"
   ]
  },
  {
   "cell_type": "code",
   "execution_count": null,
   "metadata": {
    "collapsed": true
   },
   "outputs": [],
   "source": []
  }
 ],
 "metadata": {
  "kernelspec": {
   "display_name": "Python 3",
   "language": "python",
   "name": "python3"
  },
  "language_info": {
   "codemirror_mode": {
    "name": "ipython",
    "version": 3
   },
   "file_extension": ".py",
   "mimetype": "text/x-python",
   "name": "python",
   "nbconvert_exporter": "python",
   "pygments_lexer": "ipython3",
   "version": "3.6.3"
  }
 },
 "nbformat": 4,
 "nbformat_minor": 2
}
