{
 "cells": [
  {
   "cell_type": "markdown",
   "metadata": {},
   "source": [
    "<h1 style=\"color:red\">Mini projet entrepôt et fouille de données</h1>"
   ]
  },
  {
   "cell_type": "markdown",
   "metadata": {
    "collapsed": true
   },
   "source": [
    "@author: Jonathan YUE CHUN<br>\n",
    "@author: Quentin LEVAVASSEUR<br>\n",
    "@author: Valentin BOUCHEVREAU\n",
    "\n",
    "<strong style=\"color:blue\">[1] Données</strong>\n",
    "\n",
    "TODO: createCSV from result(result format TBD)"
   ]
  },
  {
   "cell_type": "code",
   "execution_count": 63,
   "metadata": {
    "collapsed": true
   },
   "outputs": [],
   "source": [
    "import pandas\n",
    "import numpy\n",
    "\n",
    "class DataManager:\n",
    "    \n",
    "    def __init__(self, data, sheetName):\n",
    "        xls = pandas.ExcelFile(data)\n",
    "        self.df = xls.parse(sheetname=sheetName)\n",
    "    \n",
    "    def exportTOcsv(self, outputName, header=True):     \n",
    "        df2 = self.df.fillna(\"\")\n",
    "        df2.to_csv(outputName+'.csv', encoding='utf-8', index=False, header=header)\n",
    "        \n",
    "    def dropColumns(self, columnsIndex):\n",
    "        self.df = self.df.drop(self.df.columns[columnsIndex], axis=1)\n",
    "        \n",
    "    def dropRows(self, rowsIndex):\n",
    "        self.df = self.df.drop(self.df[self.df.index[rowsIndex]], axis=0)\n",
    "    \n",
    "    def replaceColumnValue(self, columnName, regexString):   \n",
    "        self.df[columnName] = self.df[columnName].str.replace(regexString, '')\n",
    "        \n",
    "    def columnToNumeric(self, columnName):\n",
    "        self.df[columnName] = pandas.to_numeric(self.df[columnName], errors='coerce').fillna(0).astype(numpy.int64)\n",
    "    \n",
    "    def addColumn(self, columnName, columnValues):\n",
    "        #columnValues is a list [...] containing a certain amount number of values intended to be inserted in the given column \n",
    "        self.df[columnName] = columnValues\n",
    "        \n",
    "    def getDataframe(self):\n",
    "        df2 = self.df.fillna(\"\")\n",
    "        return df2"
   ]
  },
  {
   "cell_type": "markdown",
   "metadata": {},
   "source": [
    "<strong style=\"color:blue\">Extraction des feuilles xlsx et l'exporter en CSV (+Nettoyage)</strong>\n",
    "\n",
    "<ul>\n",
    "  <li>Pour les données de test, suppression des colonnes de prédictions (5 colonnes...).</li>\n",
    "</ul>\n",
    "\n"
   ]
  },
  {
   "cell_type": "code",
   "execution_count": 64,
   "metadata": {
    "collapsed": true,
    "scrolled": false
   },
   "outputs": [],
   "source": [
    "dataManager1 = DataManager(\"Alphaprise.xlsx\", \"apprentissage\")\n",
    "dataManager1.replaceColumnValue(\"PrevisionnelAnnuel\", \"[^0-9.e+]\")\n",
    "dataManager1.columnToNumeric(\"PrevisionnelAnnuel\")\n",
    "dataManager1.columnToNumeric(\"NbSalaries\")\n",
    "#add a row example\n",
    "#dataManager1.addColumn(\"coltest\", list(range(1, (dataManager1.getDataframe().shape[0] + 1))))\n",
    "#dataManager1.exportTOcsv(\"apprentissage\", header=False)\n",
    "\n",
    "dataManager2 = DataManager(\"Alphaprise.xlsx\", \"test\")\n",
    "dataManager2.dropColumns([34,35,36,37,38])\n",
    "#dataManager2.exportTOcsv(\"test\", header=False)"
   ]
  },
  {
   "cell_type": "markdown",
   "metadata": {},
   "source": [
    "<strong style=\"color:blue\">[2] Travail demandé</strong><br><br>\n",
    "<strong>Analyse statistique</strong>"
   ]
  },
  {
   "cell_type": "code",
   "execution_count": 65,
   "metadata": {},
   "outputs": [
    {
     "name": "stdout",
     "output_type": "stream",
     "text": [
      "averagePrevisionnelAnnuel: 84088.18952100986\taverageCapaciteEmprunt: 13985.954676638437\taverageNbSalaries: 4.2472765000864605\n",
      "\n",
      "P1 average: 6531.958552654355\n",
      "\n",
      "P2 average: 1982.9198556112765\n",
      "\n",
      "P3 average: 3843.604731108426\n",
      "\n",
      "P4 average: 2458.2636460314684\n",
      "\n",
      "P5 average: 2179.842723499917\n",
      "\n",
      "P6 average: 2752.253797337018\n",
      "\n",
      "P7 average: 698.4204616980809\n",
      "\n",
      "P8 average: 640.177281687707\n",
      "\n",
      "P9 average: 354.4432413971984\n",
      "\n",
      "P10 average: 0.0\n",
      "\n",
      "P11 average: 377.00858983226664\n",
      "\n",
      "P12 average: 2772.456076430926\n",
      "\n",
      "P13 average: 1930.4653544872945\n",
      "\n",
      "P14 average: 2169.552788345147\n",
      "\n",
      "P15 average: 109.95279180356226\n",
      "\n",
      "P16 average: 2458.947484004836\n",
      "\n",
      "P17 average: 0.26366159432820335\n",
      "\n",
      "P18 average: 131.64165312121824\n",
      "\n",
      "P19 average: 476.7135457375043\n",
      "\n",
      "P20 average: 6786.025033719506\n",
      "\n",
      "P21 average: 1563.0109216669537\n",
      "\n",
      "P22 average: 1936.6075168597606\n",
      "\n",
      "P23 average: 608.1426724883278\n",
      "\n",
      "P24 average: 354.13560781601046\n",
      "\n",
      "P25 average: 31.277587757219436\n",
      "\n",
      "P26 average: 296.9638734220981\n",
      "\n",
      "P27 average: 17.859086114473467\n",
      "\n",
      "P28 average: 281.28985734048007\n",
      "\n",
      "P29 average: 346.7883676292579\n",
      "\n",
      "P30 average: 368.3163539685283\n",
      "\n"
     ]
    }
   ],
   "source": [
    "learningData = dataManager1.getDataframe()\n",
    "testData = dataManager2.getDataframe()\n",
    "\n",
    "averagePrevisionnelAnnuel = learningData['PrevisionnelAnnuel'].mean()\n",
    "averageCapaciteEmprunt = learningData['CapaciteEmprunt'].mean()\n",
    "averageNbSalaries = learningData['NbSalaries'].mean()\n",
    "print(\"averagePrevisionnelAnnuel: \" + str(averagePrevisionnelAnnuel) + \"\\t\" + \"averageCapaciteEmprunt: \" + str(averageCapaciteEmprunt) + \"\\t\" + \"averageNbSalaries: \" + str(averageNbSalaries) + \"\\n\")\n",
    "\n",
    "for i in range(1,31):\n",
    "    temp = learningData[\"P\"+str(i)].mean()\n",
    "    print(\"P\" + str(i) + \" average: \" + str(temp)+ \"\\n\")\n"
   ]
  },
  {
   "cell_type": "markdown",
   "metadata": {},
   "source": [
    "<p><strong style=\"color:red\">Conclusion sur l'analyse de la moyenne sur les colonnes numériques</strong></p>\n",
    "<ul>\n",
    "    <li>On peut éliminer les deux colonnes <strong>P10</strong> et <strong>P17</strong> (car valeur très inférieurs aux autres colonne P) pour les futures analyses;</li>\n",
    "    <li>Les colonnes <strong>P1, P3, P20</strong> se distincte. En effet, ces colonnes là possèdent des valeurs très au-dessus de tous les autres P;</li>\n",
    "    <li>Des colonnes P restants, on distincte deux groupes, notamment <strong>(P2, P4, P5, P6, P12, P13, P14, P16, P21, P22)</strong> et <strong>(P7, P8, P9, P11, P15, P18, P19, P23, P24, P25, P26, P27, P28, P29, P30)</strong></li>\n",
    "    <li>Pour la moyenne sur la colonne NbSalaries, il est nécessaire de le faire en plusieurs groupes différents. C'est-à-dire: une pour les entreprises à taille humaine (entre 4 - 20 employés), une pour les PME (entre 21 à 100 employés) et une pour les grande entreprises (100+ employés)</li>\n",
    "<ul>"
   ]
  },
  {
   "cell_type": "markdown",
   "metadata": {},
   "source": [
    "<strong>Faire émerger des secteurs d'activité à partir des données(le nombre de secteurs d'activité identifié par la direction des ventes est de 8 secteurs, en comptant les Particuliers et les Divers, mais ce chiffre n'est en aucun cas une valeur parfaite). <br>\n",
    "    <p style=\"color:blue\">Variables à exclure</p>au moins Secteur1, Secteur2, SecteurParticulier, SecteurDivers</strong>\n",
    "    \n",
    "D'après le raisonnement réalisé précédemment, on exclura également <strong>P10</strong> et <strong>P17</strong>"
   ]
  },
  {
   "cell_type": "code",
   "execution_count": 66,
   "metadata": {
    "collapsed": true
   },
   "outputs": [],
   "source": [
    "#Suppression des colonnes par rapport à l'index de la colonne (à exécuter une seule fois, sinon refaire l'importation des données)\n",
    "dataManager1.dropColumns([1,2,3,4, 20, 27])"
   ]
  },
  {
   "cell_type": "markdown",
   "metadata": {},
   "source": [
    "<strong>Eclatement de la donnée source en prenant compte l'hypothèse énoncé plus haut sur la colonne NbSalaries, c'est-à-dire qu'on cherchera à regrouper les différents catégories de clients ensembles...\n",
    "Dans la suite, on cherchera à faire la même chose en considérant sur les colonnes P{1..30}</strong>\n",
    "<ul>\n",
    "    <li>données des entreprises où le nombre de salariés est inférieur à 6</li>\n",
    "    <li>données des entreprises (PME): 21 à 100 employés</li>\n",
    "    <li>données des entreprises de tailles importantes</li>\n",
    "</ul>"
   ]
  },
  {
   "cell_type": "code",
   "execution_count": 67,
   "metadata": {
    "scrolled": true
   },
   "outputs": [
    {
     "name": "stdout",
     "output_type": "stream",
     "text": [
      "Moyennes du nombres de salariés\n",
      "Petite entreprise/client individuel: 1\n",
      "PME: 17\n",
      "Grande entreprise: 386\n",
      "\n",
      "Petite entreprise/client individuel:\n",
      "PME: \n",
      "Grande entreprise: \n"
     ]
    }
   ],
   "source": [
    "smallCompanyData = dataManager1.getDataframe().loc[dataManager1.getDataframe()['NbSalaries'] < 6]\n",
    "mediumCompanyData = dataManager1.getDataframe().loc[(dataManager1.getDataframe()['NbSalaries'] > 6) & (dataManager1.getDataframe()['NbSalaries'] < 100)]\n",
    "bigCompanyData = dataManager1.getDataframe().loc[dataManager1.getDataframe()['NbSalaries'] > 100]\n",
    "\n",
    "averageSmallCompanyData = smallCompanyData['NbSalaries'].mean()\n",
    "averageMediumCompanyData = mediumCompanyData['NbSalaries'].mean()\n",
    "averageBigCompanyData = bigCompanyData['NbSalaries'].mean()\n",
    "\n",
    "print(\"Moyennes du nombres de salariés\")\n",
    "print(\"Petite entreprise/client individuel: \" + str(int(averageSmallCompanyData)))\n",
    "print(\"PME: \" + str(int(averageMediumCompanyData)))\n",
    "print(\"Grande entreprise: \" + str(int(averageBigCompanyData)))\n",
    "print(\"\")\n",
    "print(\"Petite entreprise/client individuel:\")\n",
    "for i in range(1,31):\n",
    "    if i != 10 and i != 17:\n",
    "        temp = smallCompanyData[\"P\"+str(i)].mean()\n",
    "        #print(\"P\" + str(i) + \" average: \" + str(temp)+ \"\\n\")\n",
    "        \n",
    "print(\"PME: \")        \n",
    "for i in range(1,31):\n",
    "    if i != 10 and i != 17:\n",
    "        temp = mediumCompanyData[\"P\"+str(i)].mean()\n",
    "        #print(\"P\" + str(i) + \" average: \" + str(temp)+ \"\\n\")\n",
    "\n",
    "print(\"Grande entreprise: \")\n",
    "for i in range(1,31):\n",
    "    if i != 10 and i != 17:\n",
    "        temp = bigCompanyData[\"P\"+str(i)].mean()\n",
    "        #print(\"P\" + str(i) + \" average: \" + str(temp)+ \"\\n\")"
   ]
  },
  {
   "cell_type": "markdown",
   "metadata": {},
   "source": [
    "<strong>Visualisation des données statistiques...</strong>"
   ]
  },
  {
   "cell_type": "code",
   "execution_count": 68,
   "metadata": {},
   "outputs": [
    {
     "data": {
      "text/plain": [
       "Text(0,0.5,'NbEntreprises')"
      ]
     },
     "execution_count": 68,
     "metadata": {},
     "output_type": "execute_result"
    },
    {
     "data": {
      "image/png": "[encoded data removed]",
      "text/plain": [
       "<matplotlib.figure.Figure at 0x1e7a541b748>"
      ]
     },
     "metadata": {},
     "output_type": "display_data"
    }
   ],
   "source": [
    "%matplotlib inline\n",
    "\n",
    "hist1 = smallCompanyData['NbSalaries'].plot(kind='hist')\n",
    "hist1.set_xlabel(\"NbSalaries\")\n",
    "hist1.set_ylabel(\"NbEntreprises\")"
   ]
  },
  {
   "cell_type": "code",
   "execution_count": 69,
   "metadata": {},
   "outputs": [
    {
     "data": {
      "text/plain": [
       "Text(0,0.5,'NbEntreprises')"
      ]
     },
     "execution_count": 69,
     "metadata": {},
     "output_type": "execute_result"
    },
    {
     "data": {
      "image/png": "[encoded data removed]",
      "text/plain": [
       "<matplotlib.figure.Figure at 0x1e7a7503550>"
      ]
     },
     "metadata": {},
     "output_type": "display_data"
    }
   ],
   "source": [
    "hist2 = mediumCompanyData['NbSalaries'].plot(x='_id', y='total', kind='hist')\n",
    "hist2.set_xlabel(\"NbSalaries\")\n",
    "hist2.set_ylabel(\"NbEntreprises\")"
   ]
  },
  {
   "cell_type": "code",
   "execution_count": 70,
   "metadata": {},
   "outputs": [
    {
     "data": {
      "text/plain": [
       "Text(0,0.5,'NbEntreprises')"
      ]
     },
     "execution_count": 70,
     "metadata": {},
     "output_type": "execute_result"
    },
    {
     "data": {
      "image/png": "[encoded data removed]",
      "text/plain": [
       "<matplotlib.figure.Figure at 0x1e7aa65cf98>"
      ]
     },
     "metadata": {},
     "output_type": "display_data"
    }
   ],
   "source": [
    "hist3 = bigCompanyData['NbSalaries'].plot(x='_id', y='total', kind='hist')\n",
    "hist3.set_xlabel(\"NbSalaries\")\n",
    "hist3.set_ylabel(\"NbEntreprises\")"
   ]
  },
  {
   "cell_type": "markdown",
   "metadata": {
    "collapsed": true
   },
   "source": [
    "Les trois histogrammes construits suggèrent qu'ils existent 5 catégories de clients:\n",
    "<ul>\n",
    "    <li>les particuliers;</li>\n",
    "    <li>les start-ups;</li>\n",
    "    <li>les PME;</li>\n",
    "    <li>les grandes entreprises;</li>\n",
    "    <li>et les entreprises de taille internationales.</li>\n",
    "</ul>"
   ]
  },
  {
   "cell_type": "code",
   "execution_count": null,
   "metadata": {
    "scrolled": true
   },
   "outputs": [],
   "source": []
  },
  {
   "cell_type": "code",
   "execution_count": null,
   "metadata": {
    "collapsed": true
   },
   "outputs": [],
   "source": []
  }
 ],
 "metadata": {
  "kernelspec": {
   "display_name": "Python 3",
   "language": "python",
   "name": "python3"
  },
  "language_info": {
   "codemirror_mode": {
    "name": "ipython",
    "version": 3
   },
   "file_extension": ".py",
   "mimetype": "text/x-python",
   "name": "python",
   "nbconvert_exporter": "python",
   "pygments_lexer": "ipython3",
   "version": "3.6.3"
  }
 },
 "nbformat": 4,
 "nbformat_minor": 2
}
