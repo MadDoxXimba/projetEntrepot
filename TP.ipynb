{
 "cells": [
  {
   "cell_type": "markdown",
   "metadata": {},
   "source": [
    "<h1 style=\"color:red\">Mini projet entrepôt et fouille de données</h1>"
   ]
  },
  {
   "cell_type": "markdown",
   "metadata": {
    "collapsed": true
   },
   "source": [
    "<strong>@author: Jonathan YUE CHUN</strong><br>\n",
    "<strong>@author: Quentin LEVAVASSEUR</strong><br>\n",
    "<strong>@author: Valentin BOUCHEVREAU</strong>\n",
    "\n",
    "<strong style=\"color:blue\">[1] Données</strong>\n",
    "\n",
    "TODO: createCSV from result(result format TBD)"
   ]
  },
  {
   "cell_type": "code",
   "execution_count": null,
   "metadata": {},
   "outputs": [],
   "source": [
    "import pandas\n",
    "import numpy\n",
    "\n",
    "class DataManager:\n",
    "    \n",
    "    def __init__(self, data, sheetName):\n",
    "        xls = pandas.ExcelFile(data)\n",
    "        self.df = xls.parse(sheetname=sheetName)\n",
    "    \n",
    "    def exportTOcsv(self, outputName, header=True):     \n",
    "        df2 = self.df.fillna(\"\")\n",
    "        df2.to_csv(outputName+'.csv', encoding='utf-8', index=False, header=header)\n",
    "        \n",
    "    def dropColumns(self, columnsIndex):\n",
    "        self.df = self.df.drop(self.df.columns[columnsIndex], axis=1)\n",
    "        \n",
    "    def dropRows(self, rowsIndex):\n",
    "        self.df = self.df.drop(self.df[self.df.index[rowsIndex]], axis=0)\n",
    "    \n",
    "    def replaceColumnValue(self, columnName, regexString):   \n",
    "        self.df[columnName] = self.df[columnName].str.replace(regexString, '')\n",
    "        \n",
    "    def columnToNumeric(self, columnName):\n",
    "        self.df[columnName] = pandas.to_numeric(self.df[columnName], errors='coerce').fillna(0).astype(numpy.int64)\n",
    "        \n",
    "    def getDataframe(self):\n",
    "        df2 = self.df.fillna(\"\")\n",
    "        return df2"
   ]
  },
  {
   "cell_type": "markdown",
   "metadata": {},
   "source": [
    "<strong style=\"color:blue\">Extraction des feuilles xlsx et l'exporter en CSV (+Nettoyage)</strong>\n",
    "\n",
    "<ul>\n",
    "  <li>Pour les données d'apprentissage, suppression des colonnes Secteur1, Secteur2, SecteurParticulier, SecteurDivers.</li>\n",
    "  <li>Pour les données de test, suppression des colonnes de prédictions (5 colonnes...).</li>\n",
    "</ul>\n",
    "\n"
   ]
  },
  {
   "cell_type": "code",
   "execution_count": null,
   "metadata": {
    "scrolled": false
   },
   "outputs": [],
   "source": [
    "dataManager1 = DataManager(\"Alphaprise.xlsx\", \"apprentissage\")\n",
    "#dataManager1.dropColumns([1,2,3,4])\n",
    "dataManager1.replaceColumnValue(\"PrevisionnelAnnuel\", \"[^0-9.e+]\")\n",
    "dataManager1.columnToNumeric(\"PrevisionnelAnnuel\")\n",
    "dataManager1.exportTOcsv(\"apprentissage\", header=False)\n",
    "\n",
    "dataManager2 = DataManager(\"Alphaprise.xlsx\", \"test\")\n",
    "dataManager2.dropColumns([34,35,36,37,38])\n",
    "dataManager2.exportTOcsv(\"test\", header=False)"
   ]
  },
  {
   "cell_type": "markdown",
   "metadata": {},
   "source": [
    "<strong style=\"color:blue\">[2] Travail demandé</strong><br><br>\n",
    "<strong>Analyse statistique</strong>"
   ]
  },
  {
   "cell_type": "code",
   "execution_count": null,
   "metadata": {},
   "outputs": [],
   "source": [
    "learningData = dataManager1.getDataframe()\n",
    "testData = dataManager2.getDataframe()\n",
    "\n",
    "PrevisionnelAnnuel = learningData['PrevisionnelAnnuel'].mean()\n",
    "CapaciteEmprunt = learningData['CapaciteEmprunt'].mean()\n"
   ]
  },
  {
   "cell_type": "markdown",
   "metadata": {},
   "source": [
    "<strong>Faire émerger des secteurs d'activité à partir des données(le nombre de secteurs d'activité identifié par la direction des ventes est de 8 secteurs, en comptant les Particuliers et les Divers, mais ce chiffre n'est en aucun cas une valeur parfaite). <br>\n",
    "    <p style=\"color:blue\">Variables à exclure</p>au moins Secteur1, Secteur2, SecteurParticulier, SecteurDivers</strong>"
   ]
  },
  {
   "cell_type": "code",
   "execution_count": null,
   "metadata": {},
   "outputs": [],
   "source": []
  }
 ],
 "metadata": {
  "kernelspec": {
   "display_name": "Python 3",
   "language": "python",
   "name": "python3"
  },
  "language_info": {
   "codemirror_mode": {
    "name": "ipython",
    "version": 3
   },
   "file_extension": ".py",
   "mimetype": "text/x-python",
   "name": "python",
   "nbconvert_exporter": "python",
   "pygments_lexer": "ipython3",
   "version": "3.6.0"
  }
 },
 "nbformat": 4,
 "nbformat_minor": 2
}
