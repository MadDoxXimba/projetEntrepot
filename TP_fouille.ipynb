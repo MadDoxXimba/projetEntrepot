{
 "cells": [
  {
   "cell_type": "markdown",
   "metadata": {},
   "source": [
    "# Conversion de XLSX en CSV"
   ]
  },
  {
   "cell_type": "code",
   "execution_count": 110,
   "metadata": {},
   "outputs": [],
   "source": [
    "import pandas\n",
    "import numpy\n",
    "\n",
    "class DataManager:\n",
    "    \n",
    "    def __init__(self, data, sheetName):\n",
    "        xls = pandas.ExcelFile(data)\n",
    "        self.df = xls.parse(sheetname=sheetName)\n",
    "    \n",
    "    def exportTOcsv(self, outputName):     \n",
    "        df2 = self.df.fillna(\"\")\n",
    "        df2.to_csv(outputName+'.csv', encoding='utf-8', index=False)\n",
    "        \n",
    "    def dropColumns(self, columnsIndex):\n",
    "        self.df = self.df.drop(self.df.columns[columnsIndex], axis=1)\n",
    "        \n",
    "    def dropRows(self, rowsIndex):\n",
    "        self.df = self.df.drop(self.df.rows[rowsIndex], axis=0)\n",
    "    \n",
    "    def replaceColumnValue(self, columnName, regexString):   \n",
    "        self.df[columnName] = self.df[columnName].str.replace(regexString, '')\n",
    "        \n",
    "    def columnToNumeric(self, columnName):\n",
    "        self.df[columnName] = pandas.to_numeric(self.df[columnName], errors='coerce').fillna(0).astype(numpy.int64) "
   ]
  },
  {
   "cell_type": "markdown",
   "metadata": {},
   "source": [
    "<strong style=\"color:blue\">Extract spreadsheet and convert to csv</strong>"
   ]
  },
  {
   "cell_type": "code",
   "execution_count": null,
   "metadata": {
    "scrolled": false
   },
   "outputs": [],
   "source": [
    "# regex for [number.number]\n",
    "# [^0-9.e+]\n",
    "\n",
    "dataManager1 = DataManager(\"Alphaprise.xlsx\", \"apprentissage\")\n",
    "dataManager1.dropColumns([1,2,3,4])\n",
    "dataManager1.replaceColumnValue(\"PrevisionnelAnnuel\", \"[^0-9.e+]\")\n",
    "dataManager1.columnToNumeric(\"PrevisionnelAnnuel\")\n",
    "dataManager1.exportTOcsv(\"apprentissage\")\n",
    "\n",
    "dataManager2 = DataManager(\"Alphaprise.xlsx\", \"test\")\n",
    "dataManager2.dropColumns([34,35,36,37,38])\n",
    "dataManager2.exportTOcsv(\"test\")"
   ]
  },
  {
   "cell_type": "code",
   "execution_count": null,
   "metadata": {},
   "outputs": [],
   "source": []
  },
  {
   "cell_type": "code",
   "execution_count": null,
   "metadata": {},
   "outputs": [],
   "source": []
  }
 ],
 "metadata": {
  "kernelspec": {
   "display_name": "Python 3",
   "language": "python",
   "name": "python3"
  },
  "language_info": {
   "codemirror_mode": {
    "name": "ipython",
    "version": 3
   },
   "file_extension": ".py",
   "mimetype": "text/x-python",
   "name": "python",
   "nbconvert_exporter": "python",
   "pygments_lexer": "ipython3",
   "version": "3.6.0"
  }
 },
 "nbformat": 4,
 "nbformat_minor": 2
}
